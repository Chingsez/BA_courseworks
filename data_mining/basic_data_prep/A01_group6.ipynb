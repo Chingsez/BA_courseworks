{
 "cells": [
  {
   "cell_type": "markdown",
   "metadata": {},
   "source": [
    "# Assignment 01\n",
    "### Group 6 --  Yixuan Huang, Ada Li, Xinyu Wang, Jingsi Wu"
   ]
  },
  {
   "cell_type": "markdown",
   "metadata": {},
   "source": [
    "### 1. Download files and decompress\n",
    "https://www.kaggle.com/c/acquire-valued-shoppers-challenge/data"
   ]
  },
  {
   "cell_type": "markdown",
   "metadata": {},
   "source": [
    "### 2. Read files into PySpark\n",
    "You should now have 4 data sets:\n",
    "\n",
    "* offers, a data set of different types of coupons – 6 columns, 37 rows\n",
    "* testHistory, one shopper per row, used to test a predictive model – 5 columns, 151484 rows\n",
    "* trainHistory, one shopper per row, used to train a predictive model – 7 columns, 160057 rows\n",
    "* transactions, a detailed data set of shopper’s transactions – 11 columns, 349655789 rows"
   ]
  },
  {
   "cell_type": "code",
   "execution_count": 20,
   "metadata": {},
   "outputs": [],
   "source": [
    "# Uncomment below if needed\n",
    "\n",
    "# from pyspark.sql import SparkSession\n",
    "# spark=SparkSession \\\n",
    "#         .builder \\\n",
    "#         .appName('assignment1') \\\n",
    "#         .getOrCreate()\n",
    "# from pyspark.sql import functions"
   ]
  },
  {
   "cell_type": "code",
   "execution_count": 1,
   "metadata": {},
   "outputs": [],
   "source": [
    "## modify path accordingly\n",
    "path = '../../downloads/acquire-valued-shoppers-challenge/'\n",
    "transactions = spark.read.option('header', 'true').csv(path + 'transactions.csv')\n",
    "train = spark.read.option('header', 'true').csv(path + 'trainHistory.csv')\n",
    "test = spark.read.option('header', 'true').csv(path + 'testHistory.csv')\n",
    "offers = spark.read.option('header', 'true').csv(path + 'offers.csv')"
   ]
  },
  {
   "cell_type": "code",
   "execution_count": 2,
   "metadata": {},
   "outputs": [
    {
     "name": "stdout",
     "output_type": "stream",
     "text": [
      "+-----+-----+----+--------+----------+-----+----------+-----------+--------------+----------------+--------------+\n",
      "|   id|chain|dept|category|   company|brand|      date|productsize|productmeasure|purchasequantity|purchaseamount|\n",
      "+-----+-----+----+--------+----------+-----+----------+-----------+--------------+----------------+--------------+\n",
      "|86246|  205|   7|     707|1078778070|12564|2012-03-02|         12|            OZ|               1|          7.59|\n",
      "|86246|  205|  63|    6319| 107654575|17876|2012-03-02|         64|            OZ|               1|          1.59|\n",
      "|86246|  205|  97|    9753|1022027929|    0|2012-03-02|          1|            CT|               1|          5.99|\n",
      "|86246|  205|  25|    2509| 107996777|31373|2012-03-02|         16|            OZ|               1|          1.99|\n",
      "|86246|  205|  55|    5555| 107684070|32094|2012-03-02|         16|            OZ|               2|         10.38|\n",
      "|86246|  205|  97|    9753|1021015020|    0|2012-03-02|          1|            CT|               1|           7.8|\n",
      "|86246|  205|  99|    9909| 104538848|15343|2012-03-02|         16|            OZ|               1|          2.49|\n",
      "|86246|  205|  59|    5907| 102900020| 2012|2012-03-02|         16|            OZ|               1|          1.39|\n",
      "|86246|  205|   9|     921| 101128414| 9209|2012-03-02|          4|            OZ|               2|           1.5|\n",
      "|86246|  205|  73|    7344|1068142161|20285|2012-03-02|          8|            CT|               1|          5.79|\n",
      "|86246|  205|  41|    4107| 104113040|28204|2012-03-02|       14.5|            OZ|               1|          0.59|\n",
      "|86246|  205|  21|    2106| 105100050|27873|2012-03-02|         64|            OZ|               1|          3.29|\n",
      "|86246|  205|   8|     814| 102840020|18584|2012-03-02|       15.5|            OZ|               1|          3.29|\n",
      "|86246|  205|  91|    9122| 108200080| 2911|2012-03-02|         10|            OZ|               1|          1.99|\n",
      "|86246|  205|  41|    4120| 101116616|15266|2012-03-02|          6|            OZ|               1|          0.89|\n",
      "|86246|  205|  63|    6315| 107996777|31373|2012-03-02|         64|            OZ|               1|          3.59|\n",
      "|86246|  205|   9|     907| 101410010|13791|2012-03-02|         24|            OZ|               1|          3.99|\n",
      "|86246|  205|  97|    9753|1021013323|    0|2012-03-02|          1|            CT|               1|          8.87|\n",
      "|86246|  205|  45|    4509|1082650484|59628|2012-03-02|         16|            OZ|               1|          4.99|\n",
      "|86246|  205|  26|    2630| 103700030|14647|2012-03-02|         56|            CT|               1|             1|\n",
      "+-----+-----+----+--------+----------+-----+----------+-----------+--------------+----------------+--------------+\n",
      "only showing top 20 rows\n",
      "\n",
      "+--------+-----+-------+------+-----------+--------+----------+\n",
      "|      id|chain|  offer|market|repeattrips|repeater| offerdate|\n",
      "+--------+-----+-------+------+-----------+--------+----------+\n",
      "|   86246|  205|1208251|    34|          5|       t|2013-04-24|\n",
      "|   86252|  205|1197502|    34|         16|       t|2013-03-27|\n",
      "|12682470|   18|1197502|    11|          0|       f|2013-03-28|\n",
      "|12996040|   15|1197502|     9|          0|       f|2013-03-25|\n",
      "|13089312|   15|1204821|     9|          0|       f|2013-04-01|\n",
      "|13179265|   14|1197502|     8|          0|       f|2013-03-29|\n",
      "|13251776|   15|1200581|     9|          0|       f|2013-03-30|\n",
      "|13540129|   14|1200581|     8|          0|       f|2013-03-30|\n",
      "|13807224|    4|1204576|     1|          0|       f|2013-04-05|\n",
      "|13873775|    4|1197502|     1|          0|       f|2013-03-26|\n",
      "|13974451|    4|1197502|     1|          0|       f|2013-03-26|\n",
      "|14088807|    3|1200581|     2|          1|       t|2013-04-17|\n",
      "|14381137|    4|1197502|     1|          0|       f|2013-04-04|\n",
      "|14576147|   18|1197502|    11|          0|       f|2013-04-02|\n",
      "|15530842|   95|1197502|    39|          0|       f|2013-04-19|\n",
      "|15705695|   15|1197502|     9|          0|       f|2013-04-02|\n",
      "|15738658|   17|1197502|     4|          0|       f|2013-04-22|\n",
      "|15753725|   17|1208251|     4|          0|       f|2013-04-24|\n",
      "|15941277|   14|1197502|     8|          1|       t|2013-03-26|\n",
      "|15994113|    4|1197502|     1|          0|       f|2013-03-26|\n",
      "+--------+-----+-------+------+-----------+--------+----------+\n",
      "only showing top 20 rows\n",
      "\n",
      "+--------+-----+-------+------+----------+\n",
      "|      id|chain|  offer|market| offerdate|\n",
      "+--------+-----+-------+------+----------+\n",
      "|12262064|   95|1219903|    39|2013-06-27|\n",
      "|12277270|   95|1221658|    39|2013-06-23|\n",
      "|12332190|   95|1213242|    39|2013-06-15|\n",
      "|12524696|    4|1221665|     1|2013-06-20|\n",
      "|13074629|   14|1221658|     8|2013-06-21|\n",
      "|13387341|   14|1221658|     8|2013-06-22|\n",
      "|13501141|    4|1203439|     1|2013-05-13|\n",
      "|13558712|   15|1203439|     9|2013-05-12|\n",
      "|13563017|   14|1221665|     8|2013-06-24|\n",
      "|13584134|   14|1221665|     8|2013-06-27|\n",
      "|13744500|    4|1221658|     1|2013-06-26|\n",
      "|14026320|   14|1221663|     8|2013-06-23|\n",
      "|14049441|    3|1221658|     2|2013-06-21|\n",
      "|14101174|    4|1221663|     1|2013-06-22|\n",
      "|14278542|    4|1221665|     1|2013-06-21|\n",
      "|14632152|   18|1213242|    11|2013-05-27|\n",
      "|14723452|   18|1221663|    11|2013-06-29|\n",
      "|14790034|    4|1230218|     1|2013-07-28|\n",
      "|14989775|   15|1221663|     9|2013-06-26|\n",
      "|15050385|   15|1221658|     9|2013-06-23|\n",
      "+--------+-----+-------+------+----------+\n",
      "only showing top 20 rows\n",
      "\n",
      "+-------+--------+--------+----------+----------+------+\n",
      "|  offer|category|quantity|   company|offervalue| brand|\n",
      "+-------+--------+--------+----------+----------+------+\n",
      "|1190530|    9115|       1| 108500080|         5| 93904|\n",
      "|1194044|    9909|       1| 107127979|         1|  6732|\n",
      "|1197502|    3203|       1| 106414464|      0.75| 13474|\n",
      "|1198271|    5558|       1| 107120272|       1.5|  5072|\n",
      "|1198272|    5558|       1| 107120272|       1.5|  5072|\n",
      "|1198273|    5558|       1| 107120272|       1.5|  5072|\n",
      "|1198274|    5558|       1| 107120272|       1.5|  5072|\n",
      "|1198275|    5558|       1| 107120272|       1.5|  5072|\n",
      "|1199256|    4401|       1| 105100050|         2| 13791|\n",
      "|1199258|    4401|       1| 105100050|         2| 13791|\n",
      "|1200578|    1703|       1| 104460040|       1.5|  7668|\n",
      "|1200579|    1703|       1| 104460040|       1.5|  7668|\n",
      "|1200581|    1726|       1| 104460040|      1.25|  7668|\n",
      "|1200582|    1726|       1| 104460040|      1.25|  7668|\n",
      "|1200584|    3504|       1| 104460040|      1.25|  7668|\n",
      "|1200988|    3509|       1| 103320030|         2|   875|\n",
      "|1203052|    9909|       1|1089520383|         1| 28840|\n",
      "|1203439|    5122|       1| 107106878|       1.5| 17311|\n",
      "|1204576|    5616|       1| 104610040|         1| 15889|\n",
      "|1204821|    5619|       1| 107717272|       1.5|102504|\n",
      "+-------+--------+--------+----------+----------+------+\n",
      "only showing top 20 rows\n",
      "\n"
     ]
    }
   ],
   "source": [
    "# check data set\n",
    "transactions.show()\n",
    "train.show()\n",
    "test.show()\n",
    "offers.show()"
   ]
  },
  {
   "cell_type": "code",
   "execution_count": 3,
   "metadata": {},
   "outputs": [
    {
     "name": "stdout",
     "output_type": "stream",
     "text": [
      "root\n",
      " |-- id: string (nullable = true)\n",
      " |-- chain: string (nullable = true)\n",
      " |-- dept: string (nullable = true)\n",
      " |-- category: string (nullable = true)\n",
      " |-- company: string (nullable = true)\n",
      " |-- brand: string (nullable = true)\n",
      " |-- date: string (nullable = true)\n",
      " |-- productsize: string (nullable = true)\n",
      " |-- productmeasure: string (nullable = true)\n",
      " |-- purchasequantity: string (nullable = true)\n",
      " |-- purchaseamount: string (nullable = true)\n",
      "\n",
      "root\n",
      " |-- id: string (nullable = true)\n",
      " |-- chain: string (nullable = true)\n",
      " |-- offer: string (nullable = true)\n",
      " |-- market: string (nullable = true)\n",
      " |-- repeattrips: string (nullable = true)\n",
      " |-- repeater: string (nullable = true)\n",
      " |-- offerdate: string (nullable = true)\n",
      "\n",
      "root\n",
      " |-- id: string (nullable = true)\n",
      " |-- chain: string (nullable = true)\n",
      " |-- offer: string (nullable = true)\n",
      " |-- market: string (nullable = true)\n",
      " |-- offerdate: string (nullable = true)\n",
      "\n",
      "root\n",
      " |-- offer: string (nullable = true)\n",
      " |-- category: string (nullable = true)\n",
      " |-- quantity: string (nullable = true)\n",
      " |-- company: string (nullable = true)\n",
      " |-- offervalue: string (nullable = true)\n",
      " |-- brand: string (nullable = true)\n",
      "\n"
     ]
    }
   ],
   "source": [
    "# show schema\n",
    "transactions.printSchema()\n",
    "train.printSchema()\n",
    "test.printSchema()\n",
    "offers.printSchema()"
   ]
  },
  {
   "cell_type": "code",
   "execution_count": 4,
   "metadata": {},
   "outputs": [
    {
     "name": "stdout",
     "output_type": "stream",
     "text": [
      "root\n",
      " |-- id: long (nullable = true)\n",
      " |-- chain: integer (nullable = true)\n",
      " |-- dept: integer (nullable = true)\n",
      " |-- category: integer (nullable = true)\n",
      " |-- company: integer (nullable = true)\n",
      " |-- brand: integer (nullable = true)\n",
      " |-- date: timestamp (nullable = true)\n",
      " |-- productsize: double (nullable = true)\n",
      " |-- productmeasure: string (nullable = true)\n",
      " |-- purchasequantity: double (nullable = true)\n",
      " |-- purchaseamount: double (nullable = true)\n",
      "\n"
     ]
    }
   ],
   "source": [
    "# change variable type in transaction\n",
    "transactions = transactions.withColumn(\"id\", transactions.id.cast('long'))\n",
    "transactions = transactions.withColumn(\"chain\", transactions.chain.cast('int'))\n",
    "transactions = transactions.withColumn(\"dept\", transactions.dept.cast('int'))\n",
    "transactions = transactions.withColumn(\"category\", transactions.category.cast('int'))\n",
    "transactions = transactions.withColumn(\"company\", transactions.company.cast('int'))\n",
    "transactions = transactions.withColumn(\"brand\", transactions.brand.cast('int'))\n",
    "transactions = transactions.withColumn(\"date\", transactions.date.cast('timestamp'))\n",
    "transactions = transactions.withColumn(\"productsize\", transactions.productsize.cast('double'))\n",
    "transactions = transactions.withColumn(\"purchaseamount\", transactions.purchaseamount.cast('double'))\n",
    "transactions = transactions.withColumn(\"purchasequantity\", transactions.purchasequantity.cast('double'))\n",
    "transactions.printSchema()"
   ]
  },
  {
   "cell_type": "code",
   "execution_count": 5,
   "metadata": {},
   "outputs": [
    {
     "data": {
      "text/plain": [
       "349655789"
      ]
     },
     "execution_count": 5,
     "metadata": {},
     "output_type": "execute_result"
    }
   ],
   "source": [
    "transactions.count()"
   ]
  },
  {
   "cell_type": "code",
   "execution_count": 5,
   "metadata": {},
   "outputs": [
    {
     "name": "stdout",
     "output_type": "stream",
     "text": [
      "root\n",
      " |-- id: long (nullable = true)\n",
      " |-- chain: integer (nullable = true)\n",
      " |-- offer: integer (nullable = true)\n",
      " |-- market: integer (nullable = true)\n",
      " |-- repeattrips: string (nullable = true)\n",
      " |-- repeater: string (nullable = true)\n",
      " |-- offerdate: timestamp (nullable = true)\n",
      "\n"
     ]
    }
   ],
   "source": [
    "# change variable type in train\n",
    "train = train.withColumn(\"id\", train.id.cast('long'))\n",
    "train = train.withColumn(\"chain\", train.chain.cast('int'))\n",
    "train = train.withColumn(\"offer\", train.offer.cast('int'))\n",
    "train = train.withColumn(\"market\", train.market.cast('int'))\n",
    "train = train.withColumn(\"offerdate\", train.offerdate.cast('timestamp'))\n",
    "train.printSchema()"
   ]
  },
  {
   "cell_type": "code",
   "execution_count": 7,
   "metadata": {},
   "outputs": [
    {
     "data": {
      "text/plain": [
       "160057"
      ]
     },
     "execution_count": 7,
     "metadata": {},
     "output_type": "execute_result"
    }
   ],
   "source": [
    "train.count()"
   ]
  },
  {
   "cell_type": "code",
   "execution_count": 6,
   "metadata": {},
   "outputs": [
    {
     "name": "stdout",
     "output_type": "stream",
     "text": [
      "root\n",
      " |-- id: long (nullable = true)\n",
      " |-- chain: integer (nullable = true)\n",
      " |-- offer: integer (nullable = true)\n",
      " |-- market: integer (nullable = true)\n",
      " |-- offerdate: timestamp (nullable = true)\n",
      "\n"
     ]
    }
   ],
   "source": [
    "# change variable type in test\n",
    "test = test.withColumn(\"id\", test.id.cast('long'))\n",
    "test = test.withColumn(\"chain\", test.chain.cast('int'))\n",
    "test = test.withColumn(\"offer\", test.offer.cast('int'))\n",
    "test = test.withColumn(\"market\", test.market.cast('int'))\n",
    "test = test.withColumn(\"offerdate\", test.offerdate.cast('timestamp'))\n",
    "test.printSchema()"
   ]
  },
  {
   "cell_type": "code",
   "execution_count": 9,
   "metadata": {},
   "outputs": [
    {
     "data": {
      "text/plain": [
       "151484"
      ]
     },
     "execution_count": 9,
     "metadata": {},
     "output_type": "execute_result"
    }
   ],
   "source": [
    "test.count()"
   ]
  },
  {
   "cell_type": "code",
   "execution_count": 7,
   "metadata": {},
   "outputs": [
    {
     "name": "stdout",
     "output_type": "stream",
     "text": [
      "root\n",
      " |-- offer: integer (nullable = true)\n",
      " |-- category: integer (nullable = true)\n",
      " |-- quantity: integer (nullable = true)\n",
      " |-- company: integer (nullable = true)\n",
      " |-- offervalue: double (nullable = true)\n",
      " |-- brand: integer (nullable = true)\n",
      "\n"
     ]
    }
   ],
   "source": [
    "# change variable type in offers\n",
    "offers = offers.withColumn(\"offer\", offers.offer.cast('int'))\n",
    "offers = offers.withColumn(\"category\", offers.category.cast('int'))\n",
    "offers = offers.withColumn(\"quantity\", offers.quantity.cast('int'))\n",
    "offers = offers.withColumn(\"company\", offers.company.cast('int'))\n",
    "offers = offers.withColumn(\"offervalue\", offers.offervalue.cast('double'))\n",
    "offers = offers.withColumn(\"brand\", offers.brand.cast('int'))\n",
    "offers.printSchema()"
   ]
  },
  {
   "cell_type": "code",
   "execution_count": 11,
   "metadata": {},
   "outputs": [
    {
     "data": {
      "text/plain": [
       "37"
      ]
     },
     "execution_count": 11,
     "metadata": {},
     "output_type": "execute_result"
    }
   ],
   "source": [
    "offers.count()"
   ]
  },
  {
   "cell_type": "markdown",
   "metadata": {},
   "source": [
    "### 3. The target variable for the contest was repeater. Remove repeattrips from the trainHistory set.\n",
    "After dropping the repeattrips variable, the trainHistory set should now have 6 columns and 160057 rows."
   ]
  },
  {
   "cell_type": "code",
   "execution_count": 8,
   "metadata": {},
   "outputs": [
    {
     "name": "stdout",
     "output_type": "stream",
     "text": [
      "root\n",
      " |-- id: long (nullable = true)\n",
      " |-- chain: integer (nullable = true)\n",
      " |-- offer: integer (nullable = true)\n",
      " |-- market: integer (nullable = true)\n",
      " |-- repeater: string (nullable = true)\n",
      " |-- offerdate: timestamp (nullable = true)\n",
      "\n"
     ]
    }
   ],
   "source": [
    "# remove repeattrips\n",
    "train = train.drop('repeattrips')\n",
    "train.printSchema()"
   ]
  },
  {
   "cell_type": "code",
   "execution_count": 13,
   "metadata": {},
   "outputs": [
    {
     "data": {
      "text/plain": [
       "160057"
      ]
     },
     "execution_count": 13,
     "metadata": {},
     "output_type": "execute_result"
    }
   ],
   "source": [
    "train.count()"
   ]
  },
  {
   "cell_type": "markdown",
   "metadata": {},
   "source": [
    "### 4. Join the offers set onto the trainHistory and testHistory sets.\n",
    "The new training set should contain 11 columns and 160057 rows. \n",
    "\n",
    "The new test set should contain 10 columns and 151484 rows."
   ]
  },
  {
   "cell_type": "code",
   "execution_count": 9,
   "metadata": {},
   "outputs": [
    {
     "name": "stdout",
     "output_type": "stream",
     "text": [
      "root\n",
      " |-- offer: integer (nullable = true)\n",
      " |-- id: long (nullable = true)\n",
      " |-- chain: integer (nullable = true)\n",
      " |-- market: integer (nullable = true)\n",
      " |-- repeater: string (nullable = true)\n",
      " |-- offerdate: timestamp (nullable = true)\n",
      " |-- category: integer (nullable = true)\n",
      " |-- quantity: integer (nullable = true)\n",
      " |-- company: integer (nullable = true)\n",
      " |-- offervalue: double (nullable = true)\n",
      " |-- brand: integer (nullable = true)\n",
      "\n"
     ]
    }
   ],
   "source": [
    "# join offer on train history\n",
    "joined_train = train.join(offers, 'offer', 'left')\n",
    "joined_train.printSchema()"
   ]
  },
  {
   "cell_type": "code",
   "execution_count": 15,
   "metadata": {},
   "outputs": [
    {
     "data": {
      "text/plain": [
       "160057"
      ]
     },
     "execution_count": 15,
     "metadata": {},
     "output_type": "execute_result"
    }
   ],
   "source": [
    "joined_train.count()"
   ]
  },
  {
   "cell_type": "code",
   "execution_count": 10,
   "metadata": {},
   "outputs": [
    {
     "name": "stdout",
     "output_type": "stream",
     "text": [
      "root\n",
      " |-- offer: integer (nullable = true)\n",
      " |-- id: long (nullable = true)\n",
      " |-- chain: integer (nullable = true)\n",
      " |-- market: integer (nullable = true)\n",
      " |-- offerdate: timestamp (nullable = true)\n",
      " |-- category: integer (nullable = true)\n",
      " |-- quantity: integer (nullable = true)\n",
      " |-- company: integer (nullable = true)\n",
      " |-- offervalue: double (nullable = true)\n",
      " |-- brand: integer (nullable = true)\n",
      "\n"
     ]
    }
   ],
   "source": [
    "# join offer on test history\n",
    "joined_test = test.join(offers, 'offer', 'left')\n",
    "joined_test.printSchema()"
   ]
  },
  {
   "cell_type": "code",
   "execution_count": 17,
   "metadata": {},
   "outputs": [
    {
     "data": {
      "text/plain": [
       "151484"
      ]
     },
     "execution_count": 17,
     "metadata": {},
     "output_type": "execute_result"
    }
   ],
   "source": [
    "joined_test.count()"
   ]
  },
  {
   "cell_type": "markdown",
   "metadata": {},
   "source": [
    "### 5. Determine the average number of items and the average dollar amount a shopper has spent on items in the same category as the item for which they received an offer in the trainHistory or testHistory sets.\n",
    "After the join operation, the new training set should contain 13 columns and 160057 rows. \n",
    "\n",
    "The new test set should now contain 12 columns and 151484 rows."
   ]
  },
  {
   "cell_type": "code",
   "execution_count": 11,
   "metadata": {},
   "outputs": [
    {
     "name": "stdout",
     "output_type": "stream",
     "text": [
      "+--------+--------+------------------+------------------+\n",
      "|      id|category|     mean_quantity|       mean_amount|\n",
      "+--------+--------+------------------+------------------+\n",
      "|   86246|    2116|1.3333333333333333|               1.5|\n",
      "|   86246|    3108|1.0357142857142858|1.3692857142857142|\n",
      "|   86252|     905|              1.52|            2.6744|\n",
      "|   86252|     916|               1.0|              3.79|\n",
      "|   86252|    9781|               1.0|              4.44|\n",
      "|12262064|    6330|               1.0|              3.69|\n",
      "|12262064|    2301|              1.25|              1.82|\n",
      "|12277270|    2709|               2.0|              2.78|\n",
      "|12524696|    5823|1.1111111111111112| 5.224444444444445|\n",
      "|12524696|     416|2.2222222222222223|1.8233333333333333|\n",
      "|12524696|    4401|               1.0|              4.25|\n",
      "|12682470|     421|               1.0|               2.5|\n",
      "|12682470|    3204|               1.0|              9.29|\n",
      "|13074629|    9716|1.3333333333333333|             13.32|\n",
      "|13251776|     814|               1.0|             4.415|\n",
      "|13251776|    2925|               1.0| 4.923333333333334|\n",
      "|13387341|     809|1.0555555555555556| 1.422777777777778|\n",
      "|13501141|    5616|1.0869565217391304|2.2947826086956526|\n",
      "|13501141|    2908|               1.0|1.1800000000000002|\n",
      "|13540129|    4107|               1.5|             0.925|\n",
      "+--------+--------+------------------+------------------+\n",
      "only showing top 20 rows\n",
      "\n"
     ]
    }
   ],
   "source": [
    "# group transaction by id and category, and calculate average quant and amount\n",
    "add = transactions.groupby('id', 'category').avg('purchasequantity','purchaseamount')\n",
    "add = add.withColumnRenamed('avg(purchasequantity)', 'mean_quantity')\n",
    "add = add.withColumnRenamed('avg(purchaseamount)', 'mean_amount')\n",
    "add.show()"
   ]
  },
  {
   "cell_type": "code",
   "execution_count": 12,
   "metadata": {},
   "outputs": [
    {
     "name": "stdout",
     "output_type": "stream",
     "text": [
      "root\n",
      " |-- id: long (nullable = true)\n",
      " |-- category: integer (nullable = true)\n",
      " |-- offer: integer (nullable = true)\n",
      " |-- chain: integer (nullable = true)\n",
      " |-- market: integer (nullable = true)\n",
      " |-- offerdate: timestamp (nullable = true)\n",
      " |-- quantity: integer (nullable = true)\n",
      " |-- company: integer (nullable = true)\n",
      " |-- offervalue: double (nullable = false)\n",
      " |-- brand: integer (nullable = true)\n",
      " |-- mean_quantity: double (nullable = false)\n",
      " |-- mean_amount: double (nullable = false)\n",
      "\n"
     ]
    }
   ],
   "source": [
    "# join add on test history\n",
    "joined_test = joined_test.join(add, ['id', 'category'], 'left').fillna(0)\n",
    "joined_test.printSchema()"
   ]
  },
  {
   "cell_type": "code",
   "execution_count": 20,
   "metadata": {},
   "outputs": [
    {
     "data": {
      "text/plain": [
       "151484"
      ]
     },
     "execution_count": 20,
     "metadata": {},
     "output_type": "execute_result"
    }
   ],
   "source": [
    "joined_test.count()"
   ]
  },
  {
   "cell_type": "code",
   "execution_count": 13,
   "metadata": {},
   "outputs": [
    {
     "name": "stdout",
     "output_type": "stream",
     "text": [
      "root\n",
      " |-- id: long (nullable = true)\n",
      " |-- category: integer (nullable = true)\n",
      " |-- offer: integer (nullable = true)\n",
      " |-- chain: integer (nullable = true)\n",
      " |-- market: integer (nullable = true)\n",
      " |-- repeater: string (nullable = true)\n",
      " |-- offerdate: timestamp (nullable = true)\n",
      " |-- quantity: integer (nullable = true)\n",
      " |-- company: integer (nullable = true)\n",
      " |-- offervalue: double (nullable = false)\n",
      " |-- brand: integer (nullable = true)\n",
      " |-- mean_quantity: double (nullable = false)\n",
      " |-- mean_amount: double (nullable = false)\n",
      "\n"
     ]
    }
   ],
   "source": [
    "# join add on train history\n",
    "joined_train = joined_train.join(add, ['id', 'category'], 'left').fillna(0)\n",
    "joined_train.printSchema()"
   ]
  },
  {
   "cell_type": "code",
   "execution_count": 23,
   "metadata": {},
   "outputs": [
    {
     "data": {
      "text/plain": [
       "160057"
      ]
     },
     "execution_count": 23,
     "metadata": {},
     "output_type": "execute_result"
    }
   ],
   "source": [
    "joined_train.count()"
   ]
  },
  {
   "cell_type": "markdown",
   "metadata": {},
   "source": [
    "### 6. Determine if the customer has previously purchased the exact item on offer.\n",
    "After the join operation, the new training set should contain 14 columns and 160057 rows.\n",
    "\n",
    "The new test set should now contain 13 columns and 151484 rows."
   ]
  },
  {
   "cell_type": "markdown",
   "metadata": {},
   "source": [
    "### Assumptions:\n",
    "Our team defines that once a customer bought this item whether returns it or not, the customer is considered previously purchased the exact item on offer.\n",
    "\n",
    "Under this circumstance, our result shows that 25215 customers bought the item before offer in train data set."
   ]
  },
  {
   "cell_type": "code",
   "execution_count": 14,
   "metadata": {},
   "outputs": [
    {
     "name": "stdout",
     "output_type": "stream",
     "text": [
      "+-----+--------+----------+-----+---------+\n",
      "|   id|category|   company|brand|purchased|\n",
      "+-----+--------+----------+-----+---------+\n",
      "|86246|    3410| 107418272|16853|      1.0|\n",
      "|86246|    2105|1065762262|26129|      1.0|\n",
      "|86246|    6408| 108072080| 7265|      1.0|\n",
      "|86246|    2620| 104113040|28204|      2.0|\n",
      "|86246|    2806|1078099373| 6126|      1.0|\n",
      "|86246|    8101| 102820020|19426|      1.0|\n",
      "|86246|    2629| 104130343|38922|      1.0|\n",
      "|86246|    6324| 103507131|54544|      1.0|\n",
      "|86246|    1827|1080882989|10794|      1.0|\n",
      "|86246|    3202| 101200515|71182|      1.0|\n",
      "|86246|     921| 107247070| 9903|      2.0|\n",
      "|86246|     908| 102951929| 4628|      1.0|\n",
      "|86246|    6409|1071582676|14951|      1.0|\n",
      "|86246|    2702| 107910070| 7608|      1.0|\n",
      "|86246|    2112| 104473848|21039|      1.0|\n",
      "|86246|    4108| 104144343|11130|      2.0|\n",
      "|86252|    6011| 101800010|14029|      3.0|\n",
      "|86252|    1898| 103980030| 5782|      1.0|\n",
      "|86252|     970| 103800030|62065|      2.0|\n",
      "|86252|    3301| 104178040|19154|      4.0|\n",
      "+-----+--------+----------+-----+---------+\n",
      "only showing top 20 rows\n",
      "\n"
     ]
    }
   ],
   "source": [
    "# group the transaction by customer and the items feature, find the max purchased quantity.\n",
    "add2 = transactions.groupby('id', 'category', 'company', 'brand').max('purchasequantity')\n",
    "add2 = add2.withColumnRenamed('max(purchasequantity)', 'purchased')\n",
    "# filter out the records with no purchased quantity\n",
    "add2 = add2.filter(add2.purchased > 0)\n",
    "add2.show()"
   ]
  },
  {
   "cell_type": "code",
   "execution_count": 15,
   "metadata": {},
   "outputs": [
    {
     "name": "stdout",
     "output_type": "stream",
     "text": [
      "+-----+--------+----------+-----+---------+\n",
      "|   id|category|   company|brand|purchased|\n",
      "+-----+--------+----------+-----+---------+\n",
      "|86246|    3410| 107418272|16853|        1|\n",
      "|86246|    2105|1065762262|26129|        1|\n",
      "|86246|    6408| 108072080| 7265|        1|\n",
      "|86246|    2620| 104113040|28204|        1|\n",
      "|86246|    2806|1078099373| 6126|        1|\n",
      "|86246|    8101| 102820020|19426|        1|\n",
      "|86246|    2629| 104130343|38922|        1|\n",
      "|86246|    6324| 103507131|54544|        1|\n",
      "|86246|    1827|1080882989|10794|        1|\n",
      "|86246|    3202| 101200515|71182|        1|\n",
      "|86246|     921| 107247070| 9903|        1|\n",
      "|86246|     908| 102951929| 4628|        1|\n",
      "|86246|    6409|1071582676|14951|        1|\n",
      "|86246|    2702| 107910070| 7608|        1|\n",
      "|86246|    2112| 104473848|21039|        1|\n",
      "|86246|    4108| 104144343|11130|        1|\n",
      "|86252|    6011| 101800010|14029|        1|\n",
      "|86252|    1898| 103980030| 5782|        1|\n",
      "|86252|     970| 103800030|62065|        1|\n",
      "|86252|    3301| 104178040|19154|        1|\n",
      "+-----+--------+----------+-----+---------+\n",
      "only showing top 20 rows\n",
      "\n"
     ]
    }
   ],
   "source": [
    "# change purchased records into boolean values(1 for purchased, 0 for not)\n",
    "# in this case, all records in add2 should be 1 at purchased column\n",
    "add2 = add2.withColumn('purchased', (add2.purchased > 0))\n",
    "add2 = add2.withColumn('purchased', add2.purchased.cast('int'))\n",
    "add2.show()"
   ]
  },
  {
   "cell_type": "code",
   "execution_count": 16,
   "metadata": {},
   "outputs": [],
   "source": [
    "# join add2 on test and train set\n",
    "joined_test = joined_test.join(add2, ['id', 'category', 'company', 'brand'], 'left')\n",
    "joined_train = joined_train.join(add2, ['id', 'category', 'company', 'brand'], 'left')"
   ]
  },
  {
   "cell_type": "code",
   "execution_count": 17,
   "metadata": {},
   "outputs": [
    {
     "name": "stdout",
     "output_type": "stream",
     "text": [
      "root\n",
      " |-- id: long (nullable = true)\n",
      " |-- category: integer (nullable = true)\n",
      " |-- company: integer (nullable = true)\n",
      " |-- brand: integer (nullable = true)\n",
      " |-- offer: integer (nullable = true)\n",
      " |-- chain: integer (nullable = true)\n",
      " |-- market: integer (nullable = true)\n",
      " |-- offerdate: timestamp (nullable = true)\n",
      " |-- quantity: integer (nullable = true)\n",
      " |-- offervalue: double (nullable = false)\n",
      " |-- mean_quantity: double (nullable = false)\n",
      " |-- mean_amount: double (nullable = false)\n",
      " |-- purchased: integer (nullable = true)\n",
      "\n",
      "root\n",
      " |-- id: long (nullable = true)\n",
      " |-- category: integer (nullable = true)\n",
      " |-- company: integer (nullable = true)\n",
      " |-- brand: integer (nullable = true)\n",
      " |-- offer: integer (nullable = true)\n",
      " |-- chain: integer (nullable = true)\n",
      " |-- market: integer (nullable = true)\n",
      " |-- repeater: string (nullable = true)\n",
      " |-- offerdate: timestamp (nullable = true)\n",
      " |-- quantity: integer (nullable = true)\n",
      " |-- offervalue: double (nullable = false)\n",
      " |-- mean_quantity: double (nullable = false)\n",
      " |-- mean_amount: double (nullable = false)\n",
      " |-- purchased: integer (nullable = true)\n",
      "\n"
     ]
    }
   ],
   "source": [
    "# fill null with 0, and check schema\n",
    "joined_test = joined_test.fillna(0)\n",
    "joined_train = joined_train.fillna(0)\n",
    "joined_test.printSchema()\n",
    "joined_train.printSchema()"
   ]
  },
  {
   "cell_type": "code",
   "execution_count": 19,
   "metadata": {},
   "outputs": [
    {
     "data": {
      "text/plain": [
       "25215"
      ]
     },
     "execution_count": 19,
     "metadata": {},
     "output_type": "execute_result"
    }
   ],
   "source": [
    "# number of customers bought the item before offer\n",
    "joined_train.filter(joined_train.purchased == 1).count()"
   ]
  },
  {
   "cell_type": "markdown",
   "metadata": {},
   "source": [
    "### 7. Create a small subset of the training data, export it to CSV, and turn it in.\n",
    "Subset the augmented training data so that it contains only id numbers less than 107014607 where average purchase quantity and average purchase amount are greater than zero. \n",
    "\n",
    "Export this small file to CSV format."
   ]
  },
  {
   "cell_type": "code",
   "execution_count": 18,
   "metadata": {},
   "outputs": [],
   "source": [
    "# subset train set with the given requirement\n",
    "joined_train_subset = joined_train.filter((joined_train.id < 107014607) \\\n",
    "                                          & (joined_train['mean_amount'] > 0) \\\n",
    "                                          & (joined_train['mean_quantity'] > 0))"
   ]
  },
  {
   "cell_type": "code",
   "execution_count": 22,
   "metadata": {},
   "outputs": [
    {
     "name": "stdout",
     "output_type": "stream",
     "text": [
      "root\n",
      " |-- id: long (nullable = true)\n",
      " |-- category: integer (nullable = true)\n",
      " |-- company: integer (nullable = true)\n",
      " |-- brand: integer (nullable = true)\n",
      " |-- offer: integer (nullable = true)\n",
      " |-- chain: integer (nullable = true)\n",
      " |-- market: integer (nullable = true)\n",
      " |-- repeater: string (nullable = true)\n",
      " |-- offerdate: timestamp (nullable = true)\n",
      " |-- quantity: integer (nullable = true)\n",
      " |-- offervalue: double (nullable = false)\n",
      " |-- mean_quantity: double (nullable = false)\n",
      " |-- mean_amount: double (nullable = false)\n",
      " |-- purchased: integer (nullable = true)\n",
      "\n"
     ]
    }
   ],
   "source": [
    "joined_train_subset.printSchema()"
   ]
  },
  {
   "cell_type": "code",
   "execution_count": 19,
   "metadata": {},
   "outputs": [],
   "source": [
    "# write into csv\n",
    "joined_train_subset.toPandas().to_csv('train_subset.csv')"
   ]
  },
  {
   "cell_type": "code",
   "execution_count": 20,
   "metadata": {},
   "outputs": [
    {
     "data": {
      "text/plain": [
       "(350, 15)"
      ]
     },
     "execution_count": 20,
     "metadata": {},
     "output_type": "execute_result"
    }
   ],
   "source": [
    "# check output\n",
    "import pandas as pd\n",
    "output = pd.read_csv('train_subset.csv')\n",
    "output.shape"
   ]
  },
  {
   "cell_type": "markdown",
   "metadata": {},
   "source": [
    "We can see that the final data set contains 350 rows，14 columns + 1 column of index."
   ]
  },
  {
   "cell_type": "code",
   "execution_count": 21,
   "metadata": {},
   "outputs": [
    {
     "data": {
      "text/html": [
       "<div>\n",
       "<style scoped>\n",
       "    .dataframe tbody tr th:only-of-type {\n",
       "        vertical-align: middle;\n",
       "    }\n",
       "\n",
       "    .dataframe tbody tr th {\n",
       "        vertical-align: top;\n",
       "    }\n",
       "\n",
       "    .dataframe thead th {\n",
       "        text-align: right;\n",
       "    }\n",
       "</style>\n",
       "<table border=\"1\" class=\"dataframe\">\n",
       "  <thead>\n",
       "    <tr style=\"text-align: right;\">\n",
       "      <th></th>\n",
       "      <th>Unnamed: 0</th>\n",
       "      <th>id</th>\n",
       "      <th>category</th>\n",
       "      <th>company</th>\n",
       "      <th>brand</th>\n",
       "      <th>offer</th>\n",
       "      <th>chain</th>\n",
       "      <th>market</th>\n",
       "      <th>repeater</th>\n",
       "      <th>offerdate</th>\n",
       "      <th>quantity</th>\n",
       "      <th>offervalue</th>\n",
       "      <th>mean_quantity</th>\n",
       "      <th>mean_amount</th>\n",
       "      <th>purchased</th>\n",
       "    </tr>\n",
       "  </thead>\n",
       "  <tbody>\n",
       "    <tr>\n",
       "      <th>0</th>\n",
       "      <td>0</td>\n",
       "      <td>99128004</td>\n",
       "      <td>5616</td>\n",
       "      <td>104610040</td>\n",
       "      <td>15889</td>\n",
       "      <td>1204576</td>\n",
       "      <td>17</td>\n",
       "      <td>4</td>\n",
       "      <td>f</td>\n",
       "      <td>2013-04-06</td>\n",
       "      <td>1</td>\n",
       "      <td>1.00</td>\n",
       "      <td>1.5</td>\n",
       "      <td>3.417500</td>\n",
       "      <td>1</td>\n",
       "    </tr>\n",
       "    <tr>\n",
       "      <th>1</th>\n",
       "      <td>1</td>\n",
       "      <td>100470893</td>\n",
       "      <td>5616</td>\n",
       "      <td>104610040</td>\n",
       "      <td>15889</td>\n",
       "      <td>1204576</td>\n",
       "      <td>15</td>\n",
       "      <td>9</td>\n",
       "      <td>f</td>\n",
       "      <td>2013-04-07</td>\n",
       "      <td>1</td>\n",
       "      <td>1.00</td>\n",
       "      <td>1.0</td>\n",
       "      <td>4.656667</td>\n",
       "      <td>0</td>\n",
       "    </tr>\n",
       "    <tr>\n",
       "      <th>2</th>\n",
       "      <td>2</td>\n",
       "      <td>97167859</td>\n",
       "      <td>3203</td>\n",
       "      <td>106414464</td>\n",
       "      <td>13474</td>\n",
       "      <td>1197502</td>\n",
       "      <td>4</td>\n",
       "      <td>1</td>\n",
       "      <td>t</td>\n",
       "      <td>2013-04-02</td>\n",
       "      <td>1</td>\n",
       "      <td>0.75</td>\n",
       "      <td>1.0</td>\n",
       "      <td>3.590000</td>\n",
       "      <td>0</td>\n",
       "    </tr>\n",
       "    <tr>\n",
       "      <th>3</th>\n",
       "      <td>3</td>\n",
       "      <td>98319236</td>\n",
       "      <td>1726</td>\n",
       "      <td>104460040</td>\n",
       "      <td>7668</td>\n",
       "      <td>1200581</td>\n",
       "      <td>17</td>\n",
       "      <td>4</td>\n",
       "      <td>f</td>\n",
       "      <td>2013-03-30</td>\n",
       "      <td>1</td>\n",
       "      <td>1.25</td>\n",
       "      <td>1.0</td>\n",
       "      <td>2.374000</td>\n",
       "      <td>0</td>\n",
       "    </tr>\n",
       "    <tr>\n",
       "      <th>4</th>\n",
       "      <td>4</td>\n",
       "      <td>99780431</td>\n",
       "      <td>3203</td>\n",
       "      <td>106414464</td>\n",
       "      <td>13474</td>\n",
       "      <td>1197502</td>\n",
       "      <td>15</td>\n",
       "      <td>9</td>\n",
       "      <td>f</td>\n",
       "      <td>2013-03-27</td>\n",
       "      <td>1</td>\n",
       "      <td>0.75</td>\n",
       "      <td>2.0</td>\n",
       "      <td>8.980000</td>\n",
       "      <td>0</td>\n",
       "    </tr>\n",
       "  </tbody>\n",
       "</table>\n",
       "</div>"
      ],
      "text/plain": [
       "   Unnamed: 0         id  category    company  brand    offer  chain  market  \\\n",
       "0           0   99128004      5616  104610040  15889  1204576     17       4   \n",
       "1           1  100470893      5616  104610040  15889  1204576     15       9   \n",
       "2           2   97167859      3203  106414464  13474  1197502      4       1   \n",
       "3           3   98319236      1726  104460040   7668  1200581     17       4   \n",
       "4           4   99780431      3203  106414464  13474  1197502     15       9   \n",
       "\n",
       "  repeater   offerdate  quantity  offervalue  mean_quantity  mean_amount  \\\n",
       "0        f  2013-04-06         1        1.00            1.5     3.417500   \n",
       "1        f  2013-04-07         1        1.00            1.0     4.656667   \n",
       "2        t  2013-04-02         1        0.75            1.0     3.590000   \n",
       "3        f  2013-03-30         1        1.25            1.0     2.374000   \n",
       "4        f  2013-03-27         1        0.75            2.0     8.980000   \n",
       "\n",
       "   purchased  \n",
       "0          1  \n",
       "1          0  \n",
       "2          0  \n",
       "3          0  \n",
       "4          0  "
      ]
     },
     "execution_count": 21,
     "metadata": {},
     "output_type": "execute_result"
    }
   ],
   "source": [
    "output.head()"
   ]
  },
  {
   "cell_type": "code",
   "execution_count": null,
   "metadata": {},
   "outputs": [],
   "source": []
  }
 ],
 "metadata": {
  "kernelspec": {
   "display_name": "Python 3",
   "language": "python",
   "name": "python3"
  },
  "language_info": {
   "codemirror_mode": {
    "name": "ipython",
    "version": 3
   },
   "file_extension": ".py",
   "mimetype": "text/x-python",
   "name": "python",
   "nbconvert_exporter": "python",
   "pygments_lexer": "ipython3",
   "version": "3.6.6"
  }
 },
 "nbformat": 4,
 "nbformat_minor": 2
}
