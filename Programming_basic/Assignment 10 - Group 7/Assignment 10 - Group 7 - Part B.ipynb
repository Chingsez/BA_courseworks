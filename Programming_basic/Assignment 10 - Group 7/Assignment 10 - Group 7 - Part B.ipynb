{
 "cells": [
  {
   "cell_type": "markdown",
   "metadata": {},
   "source": [
    "# Assignment 10 - Group 7\n",
    "## Part B "
   ]
  },
  {
   "cell_type": "markdown",
   "metadata": {},
   "source": [
    "#### Connect to MYSQL Server"
   ]
  },
  {
   "cell_type": "code",
   "execution_count": null,
   "metadata": {},
   "outputs": [],
   "source": [
    "import pymysql as myDB\n",
    "conn = myDB.connect('localhost', 'root', 'root') \n",
    "cursor = conn.cursor()\n",
    "\n",
    "sql = ' SHOW DATABASES; '\n",
    "cursor.execute(sql)\n",
    "print(\"The current databases are: \\n\")\n",
    "for row in cursor:\n",
    "    print (row)"
   ]
  },
  {
   "cell_type": "markdown",
   "metadata": {},
   "source": [
    "### i. Create a database called MYFLTDATA in mysql. If it already exists, delete it."
   ]
  },
  {
   "cell_type": "code",
   "execution_count": null,
   "metadata": {},
   "outputs": [],
   "source": [
    "# Drop myfltdata database if it exists. \n",
    "sql = ' DROP DATABASE IF EXISTS myfltdata; ' \n",
    "cursor.execute(sql)\n",
    "\n",
    "sql = ' CREATE DATABASE myfltdata; ' \n",
    "cursor.execute(sql)\n",
    "\n",
    "sql = ' SHOW DATABASES; '\n",
    "cursor.execute(sql)\n",
    "\n",
    "# Confirm myfltdata database was created.\n",
    "print(\"The current databases are: \\n\")\n",
    "for row in cursor:\n",
    "    print (row)"
   ]
  },
  {
   "cell_type": "code",
   "execution_count": null,
   "metadata": {},
   "outputs": [],
   "source": [
    "sql = ' USE myfltdata; ' \n",
    "cursor.execute(sql)\n",
    "\n",
    "cursor.close()"
   ]
  },
  {
   "cell_type": "markdown",
   "metadata": {},
   "source": [
    "### ii. Save flights and weather as SQL tables in the MYFLTDATA database"
   ]
  },
  {
   "cell_type": "markdown",
   "metadata": {},
   "source": [
    "#### Save flights and weather data as pandas dataframes. "
   ]
  },
  {
   "cell_type": "code",
   "execution_count": null,
   "metadata": {},
   "outputs": [],
   "source": [
    "import pandas as pd\n",
    "\n",
    "# Create flights dataframe. \n",
    "fl = pd.read_csv('flights.csv')\n",
    "fl.columns = ['flightId', 'year', 'month', 'day', 'depTime', 'schedDep', 'depDelay', 'arrTime', 'schedArr', 'arrDelay', 'carrier', 'flight', 'tailNum', 'origin', 'dest', 'airTime', 'distance', 'hour', 'minute', 'timeHour']\n",
    "\n",
    "# Create weather dataframe. \n",
    "w = pd.read_csv('weather.csv')\n",
    "w.columns = ['weatherId', 'origin', 'year', 'month', 'day', 'hour', 'temp', 'dewP', 'humid', 'windDir', 'windSpeed', 'windGust', 'precip', 'pressure', 'visib', 'timeHour']"
   ]
  },
  {
   "cell_type": "markdown",
   "metadata": {},
   "source": [
    "View dataframes"
   ]
  },
  {
   "cell_type": "code",
   "execution_count": null,
   "metadata": {},
   "outputs": [],
   "source": [
    "fl.head()"
   ]
  },
  {
   "cell_type": "code",
   "execution_count": null,
   "metadata": {},
   "outputs": [],
   "source": [
    "w.head()"
   ]
  },
  {
   "cell_type": "markdown",
   "metadata": {},
   "source": [
    "#### Remove NaN Values from Dataframes\n",
    "In order for these data to be properly inserted into a SQL relation, the nan values must be removed. "
   ]
  },
  {
   "cell_type": "code",
   "execution_count": null,
   "metadata": {},
   "outputs": [],
   "source": [
    "fl.isnull().sum()"
   ]
  },
  {
   "cell_type": "code",
   "execution_count": null,
   "metadata": {},
   "outputs": [],
   "source": [
    "fl = fl[pd.notnull(fl['depTime'])]\n",
    "fl = fl[pd.notnull(fl['arrTime'])]\n",
    "fl = fl[pd.notnull(fl['arrDelay'])]\n",
    "fl.isnull().sum()"
   ]
  },
  {
   "cell_type": "code",
   "execution_count": null,
   "metadata": {},
   "outputs": [],
   "source": [
    "w.isnull().sum()"
   ]
  },
  {
   "cell_type": "code",
   "execution_count": null,
   "metadata": {},
   "outputs": [],
   "source": [
    "w = w[pd.notnull(w['pressure'])]\n",
    "w = w[pd.notnull(w['windDir'])]\n",
    "w.isnull().sum()"
   ]
  },
  {
   "cell_type": "markdown",
   "metadata": {},
   "source": [
    "#### Save dataframes as new csv. \n",
    "The new, clean pandas dataframes are ready to be saved as a csv to be loaded into the SQL relation."
   ]
  },
  {
   "cell_type": "code",
   "execution_count": null,
   "metadata": {},
   "outputs": [],
   "source": [
    "fl.to_csv('flightsnew.csv', index=False, quoting=1)\n",
    "w.to_csv('weathernew.csv', index=False, quoting=1)"
   ]
  },
  {
   "cell_type": "code",
   "execution_count": null,
   "metadata": {},
   "outputs": [],
   "source": [
    "conn = myDB.connect(host='localhost', user='root', password='root', db='myfltdata', local_infile=True)\n",
    "cursor = conn.cursor()"
   ]
  },
  {
   "cell_type": "markdown",
   "metadata": {},
   "source": [
    "#### Connect to myfltdata database and create flights and weather tables. "
   ]
  },
  {
   "cell_type": "code",
   "execution_count": null,
   "metadata": {},
   "outputs": [],
   "source": [
    "sql = '''DROP TABLE IF EXISTS flight'''\n",
    "cursor.execute(sql)"
   ]
  },
  {
   "cell_type": "code",
   "execution_count": null,
   "metadata": {},
   "outputs": [],
   "source": [
    "# Create flights table\n",
    "sql = '''\n",
    "        CREATE TABLE flights ( flightId INT(6),\n",
    "        year INT(4),\n",
    "        month INT(2),\n",
    "        day INT(2),\n",
    "        depTime INT(4),\n",
    "        schedDep INT(4),\n",
    "        depDelay INT(4),\n",
    "        arrTime INT(3),\n",
    "        schedArr INT(4),\n",
    "        arrDelay INT(4),\n",
    "        carrier CHAR(4),\n",
    "        flight CHAR(4),\n",
    "        tailNum CHAR(8),\n",
    "        origin CHAR(3),\n",
    "        dest CHAR(3),\n",
    "        airTime INT(3),\n",
    "        distance INT(6),\n",
    "        hour INT(2),\n",
    "        minute INT(2),\n",
    "        timeHour VARCHAR(20),\n",
    "        PRIMARY KEY (flightId)\n",
    "        );\n",
    "    '''\n",
    "cursor.execute(sql)"
   ]
  },
  {
   "cell_type": "code",
   "execution_count": null,
   "metadata": {},
   "outputs": [],
   "source": [
    "sql = '''DROP TABLE IF EXISTS weather'''\n",
    "cursor.execute(sql)"
   ]
  },
  {
   "cell_type": "code",
   "execution_count": null,
   "metadata": {},
   "outputs": [],
   "source": [
    "# Create weather table\n",
    "sql = '''\n",
    "        CREATE TABLE weather ( weatherId INT(6),\n",
    "        origin CHAR(3),\n",
    "        year INT(4),\n",
    "        month INT(2),\n",
    "        day INT(2),\n",
    "        hour INT(2),\n",
    "        temp FLOAT(6,2),\n",
    "        dewP FLOAT(4,2),\n",
    "        humid FLOAT(5,2),\n",
    "        windDir INT(3),\n",
    "        windSpeed FLOAT(10,6),\n",
    "        windGust FLOAT(10,6),\n",
    "        precip FLOAT(2,2),\n",
    "        pressure FLOAT(10,2),\n",
    "        visib FLOAT(10,2),\n",
    "        timeHour VARCHAR(25),\n",
    "        PRIMARY KEY (weatherId)\n",
    "        );\n",
    "    '''\n",
    "cursor.execute(sql)"
   ]
  },
  {
   "cell_type": "markdown",
   "metadata": {},
   "source": [
    "Confirm the new tables were created. "
   ]
  },
  {
   "cell_type": "code",
   "execution_count": null,
   "metadata": {},
   "outputs": [],
   "source": [
    "sql = ' SHOW TABLES; '\n",
    "cursor.execute(sql)\n",
    "print ('The tables located in the myfltdata database are: \\n')\n",
    "for row in cursor:\n",
    "    print (row)"
   ]
  },
  {
   "cell_type": "markdown",
   "metadata": {},
   "source": [
    "#### Load the data into the newly created tables."
   ]
  },
  {
   "cell_type": "code",
   "execution_count": null,
   "metadata": {
    "scrolled": true
   },
   "outputs": [],
   "source": [
    "# Load flights data into table\n",
    "\n",
    "sql = '''\n",
    "        LOAD DATA LOCAL INFILE 'flightsnew.csv'\n",
    "        INTO TABLE flights\n",
    "        FIELDS TERMINATED BY ','\n",
    "        ENCLOSED BY '\"'\n",
    "        LINES TERMINATED BY '\\r\\n'\n",
    "        IGNORE 1 ROWS;\n",
    "    '''\n",
    "cursor.execute(sql)\n",
    "conn.commit()\n",
    "print (\"The number of rows added to the flight table: {}\".format(cursor.rowcount))"
   ]
  },
  {
   "cell_type": "code",
   "execution_count": null,
   "metadata": {
    "scrolled": true
   },
   "outputs": [],
   "source": [
    "# Load weather data into table\n",
    "\n",
    "sql = '''\n",
    "        LOAD DATA LOCAL INFILE 'weathernew.csv'\n",
    "        INTO TABLE weather\n",
    "        FIELDS TERMINATED BY ','\n",
    "        ENCLOSED BY '\"'\n",
    "        LINES TERMINATED BY '\\r\\n'\n",
    "        IGNORE 1 ROWS;\n",
    "    '''\n",
    "cursor.execute(sql)\n",
    "conn.commit()\n",
    "print (\"The number of rows added to the weather table: {}\".format(cursor.rowcount))"
   ]
  },
  {
   "cell_type": "markdown",
   "metadata": {},
   "source": [
    "#### Confirm data has been loaded into each table."
   ]
  },
  {
   "cell_type": "code",
   "execution_count": null,
   "metadata": {},
   "outputs": [],
   "source": [
    "# Confirm flight data\n",
    "\n",
    "sql = ' SELECT * FROM flights WHERE flightId < 11;'\n",
    "cursor.execute(sql)\n",
    "for row in cursor.fetchall():\n",
    "    print (row)"
   ]
  },
  {
   "cell_type": "code",
   "execution_count": null,
   "metadata": {},
   "outputs": [],
   "source": [
    "# Confirm weather data\n",
    "\n",
    "sql = ' SELECT * FROM weather WHERE weatherId < 11;'\n",
    "cursor.execute(sql)\n",
    "for row in cursor.fetchall():\n",
    "    print (row)"
   ]
  },
  {
   "cell_type": "markdown",
   "metadata": {},
   "source": [
    "### iii. Left join flights and weather on \"year\", \"month\", \"day\", \"hour\", and \"origin\""
   ]
  },
  {
   "cell_type": "markdown",
   "metadata": {},
   "source": [
    "#### Left Join Flights and Weather Tables"
   ]
  },
  {
   "cell_type": "code",
   "execution_count": null,
   "metadata": {},
   "outputs": [],
   "source": [
    "sql = '''\n",
    "    CREATE TABLE flights_weather AS (\n",
    "    SELECT flights.flightId, flights.year, flights.month, flights.day, flights.hour, flights.depDelay, flights.arrDelay, flights.carrier, flights.origin, weather.temp, weather.humid, weather.windSpeed, weather.precip\n",
    "    FROM flights\n",
    "    LEFT JOIN weather ON flights.year = weather.year \n",
    "        AND flights.month = weather.month\n",
    "        AND flights.day = weather.day\n",
    "        AND flights.hour = weather.hour\n",
    "        AND flights.origin = weather.origin\n",
    "    );\n",
    "    '''\n",
    "cursor.execute(sql)\n",
    "conn.commit()"
   ]
  },
  {
   "cell_type": "markdown",
   "metadata": {},
   "source": [
    "Confirm the left join succeeded."
   ]
  },
  {
   "cell_type": "code",
   "execution_count": null,
   "metadata": {},
   "outputs": [],
   "source": [
    "sql = ' SHOW TABLES; '\n",
    "cursor.execute(sql)\n",
    "print ('The tables located in the myfltdata database are: \\n')\n",
    "for row in cursor:\n",
    "    print (row)"
   ]
  },
  {
   "cell_type": "code",
   "execution_count": null,
   "metadata": {
    "scrolled": true
   },
   "outputs": [],
   "source": [
    "sql = ' SELECT * FROM flights_weather LIMIT 5'\n",
    "cursor.execute(sql)\n",
    "for row in cursor.fetchall():\n",
    "    print(row)"
   ]
  },
  {
   "cell_type": "markdown",
   "metadata": {},
   "source": [
    "### iv. Select all flights that departed from JFK that were delayed in departure by more than 10 hours and store them in a separate table called mydelay"
   ]
  },
  {
   "cell_type": "markdown",
   "metadata": {},
   "source": [
    "#### Select flights departing from JFK that were delayed > 10 hours"
   ]
  },
  {
   "cell_type": "code",
   "execution_count": null,
   "metadata": {},
   "outputs": [],
   "source": [
    "sql = '''\n",
    "    CREATE TABLE mydelay AS (\n",
    "    SELECT * FROM flights_weather\n",
    "    WHERE origin = \"JFK\"\n",
    "    AND depDelay > 10)\n",
    "    '''\n",
    "cursor.execute(sql)\n",
    "conn.commit()"
   ]
  },
  {
   "cell_type": "markdown",
   "metadata": {},
   "source": [
    "Confirm the new table was created. "
   ]
  },
  {
   "cell_type": "code",
   "execution_count": null,
   "metadata": {},
   "outputs": [],
   "source": [
    "sql = ' SHOW TABLES; '\n",
    "cursor.execute(sql)\n",
    "print ('The tables located in the myfltdata database are: \\n')\n",
    "for row in cursor:\n",
    "    print (row)"
   ]
  },
  {
   "cell_type": "code",
   "execution_count": null,
   "metadata": {
    "scrolled": true
   },
   "outputs": [],
   "source": [
    "sql = ' SELECT * FROM mydelay LIMIT 5'\n",
    "cursor.execute(sql)\n",
    "for row in cursor.fetchall():\n",
    "    print(row)"
   ]
  },
  {
   "cell_type": "markdown",
   "metadata": {},
   "source": [
    "### v. What were the average weather conditions for these delayed flights at the time of scheduled departure in terms of temperature, humidity, wind speed and precipitation?\n"
   ]
  },
  {
   "cell_type": "code",
   "execution_count": null,
   "metadata": {
    "scrolled": true
   },
   "outputs": [],
   "source": [
    "mydelaypd = pd.read_sql('SELECT * FROM mydelay', conn)\n",
    "mydelaypd.head()"
   ]
  },
  {
   "cell_type": "code",
   "execution_count": null,
   "metadata": {},
   "outputs": [],
   "source": [
    "mdweather = mydelaypd[['temp', 'humid', 'windSpeed', 'precip']]\n",
    "mdweather.describe()"
   ]
  },
  {
   "cell_type": "code",
   "execution_count": null,
   "metadata": {},
   "outputs": [],
   "source": [
    "# Calculate the average weather conditions in for the delayed flights (pandas statistics is better)\n",
    "sql = ' SELECT avg(temp), avg(humid), avg(windSpeed), avg(precip) FROM mydelay'\n",
    "cursor.execute(sql)\n",
    "for row in cursor.fetchall():\n",
    "    print(row)"
   ]
  },
  {
   "cell_type": "markdown",
   "metadata": {},
   "source": [
    "### vi. Provide plots of distributions for all these weather variables."
   ]
  },
  {
   "cell_type": "code",
   "execution_count": null,
   "metadata": {},
   "outputs": [],
   "source": [
    "import matplotlib.pyplot as plt \n",
    "import seaborn as sns\n",
    "%matplotlib inline"
   ]
  },
  {
   "cell_type": "code",
   "execution_count": null,
   "metadata": {},
   "outputs": [],
   "source": [
    "# Remove any nan in the dataframe. \n",
    "mdweather.isnull().sum()\n",
    "mdweather = mdweather[pd.notnull(mdweather['temp'])]"
   ]
  },
  {
   "cell_type": "code",
   "execution_count": null,
   "metadata": {},
   "outputs": [],
   "source": [
    "ax = plt.axes()\n",
    "sns.distplot(mdweather['temp'], ax=ax)\n",
    "ax.set_title('Temperature')"
   ]
  },
  {
   "cell_type": "code",
   "execution_count": null,
   "metadata": {},
   "outputs": [],
   "source": [
    "ax = plt.axes()\n",
    "sns.distplot(mdweather['humid'], ax=ax)\n",
    "ax.set_title('Humidity')"
   ]
  },
  {
   "cell_type": "code",
   "execution_count": null,
   "metadata": {},
   "outputs": [],
   "source": [
    "ax = plt.axes()\n",
    "sns.distplot(mdweather['windSpeed'], ax=ax)\n",
    "ax.set_title('Wind Speed')"
   ]
  },
  {
   "cell_type": "code",
   "execution_count": null,
   "metadata": {},
   "outputs": [],
   "source": [
    "ax = plt.axes()\n",
    "sns.distplot(mdweather['precip'], ax=ax)\n",
    "ax.set_title('Precipitation')"
   ]
  },
  {
   "cell_type": "markdown",
   "metadata": {},
   "source": [
    "### vii.. Save data from mydelay into a csv file called mydelay.csv."
   ]
  },
  {
   "cell_type": "code",
   "execution_count": null,
   "metadata": {},
   "outputs": [],
   "source": [
    "mydelaypd.to_csv('mydelay.csv', index=False, quoting =1)"
   ]
  },
  {
   "cell_type": "markdown",
   "metadata": {},
   "source": [
    "### viii. Read the mydelay.csv into a Pandas dataframe. In this file, is there a difference across airlines? how arrival delay is distributed? Please analyze this using histograms faceted by airlines."
   ]
  },
  {
   "cell_type": "code",
   "execution_count": null,
   "metadata": {},
   "outputs": [],
   "source": [
    "mydelaydf = pd.read_csv('mydelay.csv')"
   ]
  },
  {
   "cell_type": "code",
   "execution_count": null,
   "metadata": {
    "scrolled": false
   },
   "outputs": [],
   "source": [
    "import numpy as np\n",
    "import pandas as pd\n",
    "import matplotlib.pyplot as plt\n",
    "import seaborn as sns\n",
    "airlinesdl = sns.FacetGrid(mydelaydf, row=\"year\", col=\"carrier\", margin_titles=True)\n",
    "airlinesdl.map(plt.hist, \"arrDelay\", bins=np.linspace(0, 300, num=20));"
   ]
  },
  {
   "cell_type": "markdown",
   "metadata": {},
   "source": []
  }
 ],
 "metadata": {
  "kernelspec": {
   "display_name": "Python 3",
   "language": "python",
   "name": "python3"
  },
  "language_info": {
   "codemirror_mode": {
    "name": "ipython",
    "version": 3
   },
   "file_extension": ".py",
   "mimetype": "text/x-python",
   "name": "python",
   "nbconvert_exporter": "python",
   "pygments_lexer": "ipython3",
   "version": "3.6.5"
  }
 },
 "nbformat": 4,
 "nbformat_minor": 2
}
